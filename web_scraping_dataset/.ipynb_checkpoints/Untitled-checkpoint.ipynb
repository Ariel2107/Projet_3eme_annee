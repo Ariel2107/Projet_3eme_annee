{
 "cells": [
  {
   "cell_type": "code",
   "execution_count": 1,
   "id": "b2befcc6",
   "metadata": {},
   "outputs": [],
   "source": [
    "import requests\n",
    "from bs4 import BeautifulSoup\n",
    "import os"
   ]
  },
  {
   "cell_type": "markdown",
   "id": "ca052a6b",
   "metadata": {},
   "source": [
    "URL IMAGE"
   ]
  },
  {
   "cell_type": "code",
   "execution_count": 2,
   "id": "2478a718",
   "metadata": {},
   "outputs": [],
   "source": [
    "url_men = \"https://www.gettyimages.fr/photos/portrait-homme\"\n",
    "url_men_google_img = \"https://www.google.com/search?q=portrait+homme&client=safari&sxsrf=APq-WBugyNZ4vIpvLQoGgFnGtev7jik0OQ:1648645304993&source=lnms&tbm=isch&sa=X&ved=2ahUKEwjv246u8u32AhUDyoUKHTufCj0Q_AUoAXoECAEQAw&biw=1440&bih=820&dpr=2\"\n",
    "url_men_pinterest = \"https://www.pinterest.fr/search/pins/?q=portrait%20homme&rs=typed&term_meta[]=portrait%7Ctyped&term_meta[]=homme%7Ctyped\"\n",
    "url_men_istockphoto  = \"https://www.istockphoto.com/fr/photos/portrait-homme\"\n",
    "url_men_pinterest_black_men = \"https://www.pinterest.fr/genevievepichot/portrait-homme/black-men/\"\n",
    "url_men_intagram1 = \"https://www.instagram.com/explore/tags/portraithomme/\""
   ]
  },
  {
   "cell_type": "code",
   "execution_count": 7,
   "id": "dd61a124",
   "metadata": {},
   "outputs": [
    {
     "name": "stdout",
     "output_type": "stream",
     "text": [
      "200\n",
      "29\n",
      "https://i.pinimg.com/75x75_RS/82/2c/07/822c07ec18022c177b5faed48d72908d.jpg\n",
      "https://i.pinimg.com/236x/88/26/09/882609414f393d54274b6ae8797d009d--bw-photography-black-white-photography.jpg\n",
      "https://i.pinimg.com/236x/df/24/88/df24884522816ed6c13ede87b3bab37d.jpg\n",
      "https://i.pinimg.com/75x75_RS/82/2c/07/822c07ec18022c177b5faed48d72908d.jpg\n",
      "https://i.pinimg.com/236x/0d/26/be/0d26beb31a6a2d3abc609268dbe76203--famous-singers-great-friends.jpg\n",
      "https://i.pinimg.com/236x/8a/35/fa/8a35fa612db7fba3223dffc094c2ba8d--beautiful-eyes-beautiful-people.jpg\n",
      "https://i.pinimg.com/236x/9b/26/77/9b26776c2bb7342508fc77d4707d78a4--on-instagram.jpg\n",
      "https://i.pinimg.com/236x/88/26/09/882609414f393d54274b6ae8797d009d--bw-photography-black-white-photography.jpg\n",
      "https://i.pinimg.com/236x/1b/eb/2d/1beb2d92e09cf5fa93c38966a199c206--dieter-men-portrait.jpg\n",
      "https://i.pinimg.com/236x/b6/73/7a/b6737aa5c61e173c0d57c164c321469e--green-eyes-pop-people-of-the-world.jpg\n",
      "https://i.pinimg.com/236x/e5/a0/61/e5a061b8c7c1274cd3de3da446e4c03e--film-director-movie-tv.jpg\n",
      "https://i.pinimg.com/236x/4e/95/03/4e9503399249ef2b351bfce4ef4794dc.jpg\n",
      "https://i.pinimg.com/236x/11/35/4f/11354fce6dcd00513c3b13b3916c2389--photo-portrait-composers.jpg\n",
      "https://i.pinimg.com/236x/2f/14/3f/2f143f57337ccbf5cf18cb2dbe7e3266--portrait-photography-men-celebrity-photography.jpg\n",
      "https://i.pinimg.com/75x75_RS/bc/47/e8/bc47e819000b1a39b976f3e93dadddfd.jpg\n",
      "https://i.pinimg.com/236x/d2/6b/0d/d26b0d60cba7434002f626ff5b3f9954--antonio-banderas-dead.jpg\n",
      "https://i.pinimg.com/236x/bb/99/15/bb9915ecfcc9050974141b4af08efe89--vincent-lindon-cannes.jpg\n",
      "https://i.pinimg.com/236x/76/8d/f1/768df146ec9380545cfbcc20f2eb0dce--high-tech-dark-side.jpg\n",
      "https://i.pinimg.com/236x/fd/9a/96/fd9a96659c084f8da59d17780a80a90b--portraits-galleries.jpg\n",
      "https://i.pinimg.com/236x/64/23/b9/6423b9dfac7e62f4aff0b3b17b8d628c--male-portraits-photo-portrait.jpg\n",
      "https://i.pinimg.com/236x/55/e7/08/55e7089daf03c3cc4e00cdd788d6b556--photographer-portfolio.jpg\n",
      "https://i.pinimg.com/236x/4e/95/03/4e9503399249ef2b351bfce4ef4794dc.jpg\n",
      "https://i.pinimg.com/236x/89/34/92/893492f00dff82e89abdcd5c9a700c84--johan-famous-faces.jpg\n",
      "https://i.pinimg.com/236x/f9/ab/e5/f9abe505b9f98ecb022e38c3eefa424e--beards-photography-portraits.jpg\n",
      "https://i.pinimg.com/236x/29/18/0d/29180d82108c4178a236d698011cfcf3--celebs-celebrities.jpg\n",
      "https://i.pinimg.com/75x75_RS/7f/d7/bd/7fd7bdb7d8ada9ed61dce47bf684a8e3.jpg\n",
      "https://i.pinimg.com/236x/9d/eb/f9/9debf9f606de88003457aa3fa93fa813--beautiful-men-beautiful-people.jpg\n",
      "https://i.pinimg.com/236x/f5/6f/35/f56f35a234b652af7ab2c934f532ea2f--robert-redford-young-robert-richard.jpg\n",
      "https://i.pinimg.com/236x/ed/85/66/ed856643bc6eb628f206f7cd76cefce7--leonardo-di-caprio-diamonds.jpg\n"
     ]
    }
   ],
   "source": [
    "req = requests.get(url_men_pinterest_black_men)\n",
    "soup = BeautifulSoup(req.text, 'html.parser')\n",
    "print(req.status_code)\n",
    "\n",
    "images = soup.find_all('img')\n",
    "print(len(images))\n",
    "\n",
    "for image in images:\n",
    "    print(image['src'])"
   ]
  },
  {
   "cell_type": "code",
   "execution_count": 8,
   "id": "c23b0a25",
   "metadata": {},
   "outputs": [
    {
     "name": "stdout",
     "output_type": "stream",
     "text": [
      "200\n",
      "29\n",
      "https://i.pinimg.com/75x75_RS/82/2c/07/822c07ec18022c177b5faed48d72908d.jpg\n",
      "https://i.pinimg.com/236x/88/26/09/882609414f393d54274b6ae8797d009d--bw-photography-black-white-photography.jpg\n",
      "https://i.pinimg.com/236x/df/24/88/df24884522816ed6c13ede87b3bab37d.jpg\n",
      "https://i.pinimg.com/75x75_RS/82/2c/07/822c07ec18022c177b5faed48d72908d.jpg\n",
      "https://i.pinimg.com/236x/0d/26/be/0d26beb31a6a2d3abc609268dbe76203--famous-singers-great-friends.jpg\n",
      "https://i.pinimg.com/236x/8a/35/fa/8a35fa612db7fba3223dffc094c2ba8d--beautiful-eyes-beautiful-people.jpg\n",
      "https://i.pinimg.com/236x/9b/26/77/9b26776c2bb7342508fc77d4707d78a4--on-instagram.jpg\n",
      "https://i.pinimg.com/236x/88/26/09/882609414f393d54274b6ae8797d009d--bw-photography-black-white-photography.jpg\n",
      "https://i.pinimg.com/236x/1b/eb/2d/1beb2d92e09cf5fa93c38966a199c206--dieter-men-portrait.jpg\n",
      "https://i.pinimg.com/236x/b6/73/7a/b6737aa5c61e173c0d57c164c321469e--green-eyes-pop-people-of-the-world.jpg\n",
      "https://i.pinimg.com/236x/e5/a0/61/e5a061b8c7c1274cd3de3da446e4c03e--film-director-movie-tv.jpg\n",
      "https://i.pinimg.com/236x/4e/95/03/4e9503399249ef2b351bfce4ef4794dc.jpg\n",
      "https://i.pinimg.com/236x/11/35/4f/11354fce6dcd00513c3b13b3916c2389--photo-portrait-composers.jpg\n",
      "https://i.pinimg.com/236x/2f/14/3f/2f143f57337ccbf5cf18cb2dbe7e3266--portrait-photography-men-celebrity-photography.jpg\n",
      "https://i.pinimg.com/75x75_RS/bc/47/e8/bc47e819000b1a39b976f3e93dadddfd.jpg\n",
      "https://i.pinimg.com/236x/d2/6b/0d/d26b0d60cba7434002f626ff5b3f9954--antonio-banderas-dead.jpg\n",
      "https://i.pinimg.com/236x/bb/99/15/bb9915ecfcc9050974141b4af08efe89--vincent-lindon-cannes.jpg\n",
      "https://i.pinimg.com/236x/76/8d/f1/768df146ec9380545cfbcc20f2eb0dce--high-tech-dark-side.jpg\n",
      "https://i.pinimg.com/236x/fd/9a/96/fd9a96659c084f8da59d17780a80a90b--portraits-galleries.jpg\n",
      "https://i.pinimg.com/236x/64/23/b9/6423b9dfac7e62f4aff0b3b17b8d628c--male-portraits-photo-portrait.jpg\n",
      "https://i.pinimg.com/236x/55/e7/08/55e7089daf03c3cc4e00cdd788d6b556--photographer-portfolio.jpg\n",
      "https://i.pinimg.com/236x/4e/95/03/4e9503399249ef2b351bfce4ef4794dc.jpg\n",
      "https://i.pinimg.com/236x/89/34/92/893492f00dff82e89abdcd5c9a700c84--johan-famous-faces.jpg\n",
      "https://i.pinimg.com/236x/f9/ab/e5/f9abe505b9f98ecb022e38c3eefa424e--beards-photography-portraits.jpg\n",
      "https://i.pinimg.com/236x/29/18/0d/29180d82108c4178a236d698011cfcf3--celebs-celebrities.jpg\n",
      "https://i.pinimg.com/75x75_RS/7f/d7/bd/7fd7bdb7d8ada9ed61dce47bf684a8e3.jpg\n",
      "https://i.pinimg.com/236x/9d/eb/f9/9debf9f606de88003457aa3fa93fa813--beautiful-men-beautiful-people.jpg\n",
      "https://i.pinimg.com/236x/f5/6f/35/f56f35a234b652af7ab2c934f532ea2f--robert-redford-young-robert-richard.jpg\n",
      "https://i.pinimg.com/236x/ed/85/66/ed856643bc6eb628f206f7cd76cefce7--leonardo-di-caprio-diamonds.jpg\n"
     ]
    }
   ],
   "source": [
    "req2 = requests.get(url_men_istockphoto)\n",
    "soup = BeautifulSoup(req.text, 'html.parser')\n",
    "print(req.status_code)\n",
    "\n",
    "images = soup.find_all('img')\n",
    "print(len(images))\n",
    "\n",
    "for image in images:\n",
    "    print(image['src'])"
   ]
  },
  {
   "cell_type": "code",
   "execution_count": 9,
   "id": "dfefd1ae",
   "metadata": {
    "scrolled": false
   },
   "outputs": [
    {
     "name": "stdout",
     "output_type": "stream",
     "text": [
      "200\n",
      "29\n",
      "https://i.pinimg.com/75x75_RS/82/2c/07/822c07ec18022c177b5faed48d72908d.jpg\n",
      "https://i.pinimg.com/236x/88/26/09/882609414f393d54274b6ae8797d009d--bw-photography-black-white-photography.jpg\n",
      "https://i.pinimg.com/236x/df/24/88/df24884522816ed6c13ede87b3bab37d.jpg\n",
      "https://i.pinimg.com/75x75_RS/82/2c/07/822c07ec18022c177b5faed48d72908d.jpg\n",
      "https://i.pinimg.com/236x/0d/26/be/0d26beb31a6a2d3abc609268dbe76203--famous-singers-great-friends.jpg\n",
      "https://i.pinimg.com/236x/8a/35/fa/8a35fa612db7fba3223dffc094c2ba8d--beautiful-eyes-beautiful-people.jpg\n",
      "https://i.pinimg.com/236x/9b/26/77/9b26776c2bb7342508fc77d4707d78a4--on-instagram.jpg\n",
      "https://i.pinimg.com/236x/88/26/09/882609414f393d54274b6ae8797d009d--bw-photography-black-white-photography.jpg\n",
      "https://i.pinimg.com/236x/1b/eb/2d/1beb2d92e09cf5fa93c38966a199c206--dieter-men-portrait.jpg\n",
      "https://i.pinimg.com/236x/b6/73/7a/b6737aa5c61e173c0d57c164c321469e--green-eyes-pop-people-of-the-world.jpg\n",
      "https://i.pinimg.com/236x/e5/a0/61/e5a061b8c7c1274cd3de3da446e4c03e--film-director-movie-tv.jpg\n",
      "https://i.pinimg.com/236x/4e/95/03/4e9503399249ef2b351bfce4ef4794dc.jpg\n",
      "https://i.pinimg.com/236x/11/35/4f/11354fce6dcd00513c3b13b3916c2389--photo-portrait-composers.jpg\n",
      "https://i.pinimg.com/236x/2f/14/3f/2f143f57337ccbf5cf18cb2dbe7e3266--portrait-photography-men-celebrity-photography.jpg\n",
      "https://i.pinimg.com/75x75_RS/bc/47/e8/bc47e819000b1a39b976f3e93dadddfd.jpg\n",
      "https://i.pinimg.com/236x/d2/6b/0d/d26b0d60cba7434002f626ff5b3f9954--antonio-banderas-dead.jpg\n",
      "https://i.pinimg.com/236x/bb/99/15/bb9915ecfcc9050974141b4af08efe89--vincent-lindon-cannes.jpg\n",
      "https://i.pinimg.com/236x/76/8d/f1/768df146ec9380545cfbcc20f2eb0dce--high-tech-dark-side.jpg\n",
      "https://i.pinimg.com/236x/fd/9a/96/fd9a96659c084f8da59d17780a80a90b--portraits-galleries.jpg\n",
      "https://i.pinimg.com/236x/64/23/b9/6423b9dfac7e62f4aff0b3b17b8d628c--male-portraits-photo-portrait.jpg\n",
      "https://i.pinimg.com/236x/55/e7/08/55e7089daf03c3cc4e00cdd788d6b556--photographer-portfolio.jpg\n",
      "https://i.pinimg.com/236x/4e/95/03/4e9503399249ef2b351bfce4ef4794dc.jpg\n",
      "https://i.pinimg.com/236x/89/34/92/893492f00dff82e89abdcd5c9a700c84--johan-famous-faces.jpg\n",
      "https://i.pinimg.com/236x/f9/ab/e5/f9abe505b9f98ecb022e38c3eefa424e--beards-photography-portraits.jpg\n",
      "https://i.pinimg.com/236x/29/18/0d/29180d82108c4178a236d698011cfcf3--celebs-celebrities.jpg\n",
      "https://i.pinimg.com/75x75_RS/7f/d7/bd/7fd7bdb7d8ada9ed61dce47bf684a8e3.jpg\n",
      "https://i.pinimg.com/236x/9d/eb/f9/9debf9f606de88003457aa3fa93fa813--beautiful-men-beautiful-people.jpg\n",
      "https://i.pinimg.com/236x/f5/6f/35/f56f35a234b652af7ab2c934f532ea2f--robert-redford-young-robert-richard.jpg\n",
      "https://i.pinimg.com/236x/ed/85/66/ed856643bc6eb628f206f7cd76cefce7--leonardo-di-caprio-diamonds.jpg\n"
     ]
    }
   ],
   "source": [
    "req2 = requests.get(url_men_intagram1)\n",
    "soup = BeautifulSoup(req.text, 'html.parser')\n",
    "print(req.status_code)\n",
    "\n",
    "images = soup.find_all('img')\n",
    "print(len(images))\n",
    "\n",
    "for image in images:\n",
    "    print(image['src'])"
   ]
  },
  {
   "cell_type": "code",
   "execution_count": null,
   "id": "e2281e30",
   "metadata": {},
   "outputs": [],
   "source": []
  }
 ],
 "metadata": {
  "kernelspec": {
   "display_name": "Python 3 (ipykernel)",
   "language": "python",
   "name": "python3"
  },
  "language_info": {
   "codemirror_mode": {
    "name": "ipython",
    "version": 3
   },
   "file_extension": ".py",
   "mimetype": "text/x-python",
   "name": "python",
   "nbconvert_exporter": "python",
   "pygments_lexer": "ipython3",
   "version": "3.9.7"
  }
 },
 "nbformat": 4,
 "nbformat_minor": 5
}
